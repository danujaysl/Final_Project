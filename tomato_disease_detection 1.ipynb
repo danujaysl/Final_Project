{
  "nbformat": 4,
  "nbformat_minor": 0,
  "metadata": {
    "colab": {
      "provenance": [],
      "gpuType": "T4"
    },
    "kernelspec": {
      "name": "python3",
      "display_name": "Python 3"
    },
    "language_info": {
      "name": "python"
    },
    "accelerator": "GPU"
  },
  "cells": [
    {
      "cell_type": "markdown",
      "source": [
        "# Downloading the datasets"
      ],
      "metadata": {
        "id": "ax_ElbXGJxRx"
      }
    },
    {
      "cell_type": "code",
      "source": [
        "!pip install opendatasets\n",
        "!pip install split-folders"
      ],
      "metadata": {
        "id": "k3dpMYpIPSSP",
        "colab": {
          "base_uri": "https://localhost:8080/"
        },
        "outputId": "4397065d-8cb4-4747-9225-ee71e145b201"
      },
      "execution_count": 1,
      "outputs": [
        {
          "output_type": "stream",
          "name": "stdout",
          "text": [
            "Collecting opendatasets\n",
            "  Downloading opendatasets-0.1.22-py3-none-any.whl (15 kB)\n",
            "Requirement already satisfied: tqdm in /usr/local/lib/python3.10/dist-packages (from opendatasets) (4.66.2)\n",
            "Requirement already satisfied: kaggle in /usr/local/lib/python3.10/dist-packages (from opendatasets) (1.5.16)\n",
            "Requirement already satisfied: click in /usr/local/lib/python3.10/dist-packages (from opendatasets) (8.1.7)\n",
            "Requirement already satisfied: six>=1.10 in /usr/local/lib/python3.10/dist-packages (from kaggle->opendatasets) (1.16.0)\n",
            "Requirement already satisfied: certifi in /usr/local/lib/python3.10/dist-packages (from kaggle->opendatasets) (2024.2.2)\n",
            "Requirement already satisfied: python-dateutil in /usr/local/lib/python3.10/dist-packages (from kaggle->opendatasets) (2.8.2)\n",
            "Requirement already satisfied: requests in /usr/local/lib/python3.10/dist-packages (from kaggle->opendatasets) (2.31.0)\n",
            "Requirement already satisfied: python-slugify in /usr/local/lib/python3.10/dist-packages (from kaggle->opendatasets) (8.0.4)\n",
            "Requirement already satisfied: urllib3 in /usr/local/lib/python3.10/dist-packages (from kaggle->opendatasets) (2.0.7)\n",
            "Requirement already satisfied: bleach in /usr/local/lib/python3.10/dist-packages (from kaggle->opendatasets) (6.1.0)\n",
            "Requirement already satisfied: webencodings in /usr/local/lib/python3.10/dist-packages (from bleach->kaggle->opendatasets) (0.5.1)\n",
            "Requirement already satisfied: text-unidecode>=1.3 in /usr/local/lib/python3.10/dist-packages (from python-slugify->kaggle->opendatasets) (1.3)\n",
            "Requirement already satisfied: charset-normalizer<4,>=2 in /usr/local/lib/python3.10/dist-packages (from requests->kaggle->opendatasets) (3.3.2)\n",
            "Requirement already satisfied: idna<4,>=2.5 in /usr/local/lib/python3.10/dist-packages (from requests->kaggle->opendatasets) (3.6)\n",
            "Installing collected packages: opendatasets\n",
            "Successfully installed opendatasets-0.1.22\n",
            "Collecting split-folders\n",
            "  Downloading split_folders-0.5.1-py3-none-any.whl (8.4 kB)\n",
            "Installing collected packages: split-folders\n",
            "Successfully installed split-folders-0.5.1\n"
          ]
        }
      ]
    },
    {
      "cell_type": "code",
      "source": [
        "import opendatasets as op\n",
        "\n",
        "url = 'https://www.kaggle.com/datasets/arjuntejaswi/plant-village'\n",
        "\n",
        "op.download(url)"
      ],
      "metadata": {
        "colab": {
          "base_uri": "https://localhost:8080/"
        },
        "id": "u3jvjtkEfipd",
        "outputId": "ea542cc3-7ebe-4db2-c8c0-9cb54a4d233e"
      },
      "execution_count": 3,
      "outputs": [
        {
          "output_type": "stream",
          "name": "stdout",
          "text": [
            "Please provide your Kaggle credentials to download this dataset. Learn more: http://bit.ly/kaggle-creds\n",
            "Your Kaggle username: bmwnext100\n",
            "Your Kaggle Key: ··········\n",
            "Downloading plant-village.zip to ./plant-village\n"
          ]
        },
        {
          "output_type": "stream",
          "name": "stderr",
          "text": [
            "100%|██████████| 329M/329M [00:19<00:00, 18.0MB/s]\n"
          ]
        },
        {
          "output_type": "stream",
          "name": "stdout",
          "text": [
            "\n"
          ]
        }
      ]
    },
    {
      "cell_type": "markdown",
      "source": [
        "Splitting the folders as Train set and Test set"
      ],
      "metadata": {
        "id": "ZPTL7A2jKBKQ"
      }
    },
    {
      "cell_type": "code",
      "source": [
        "import os\n",
        "\n",
        "os.makedirs('PlantVillage')"
      ],
      "metadata": {
        "id": "0cvoJJ6-fsaF"
      },
      "execution_count": 4,
      "outputs": []
    },
    {
      "cell_type": "code",
      "source": [
        "import shutil\n",
        "\n",
        "src = '/content/plant-village/PlantVillage/Tomato_Bacterial_spot'\n",
        "des = '/content/PlantVillage'\n",
        "shutil.move(src, des)\n",
        "src = '/content/plant-village/PlantVillage/Tomato_Early_blight'\n",
        "des = '/content/PlantVillage'\n",
        "shutil.move(src, des)\n",
        "src = '/content/plant-village/PlantVillage/Tomato_Late_blight'\n",
        "des = '/content/PlantVillage'\n",
        "shutil.move(src, des)\n",
        "src = '/content/plant-village/PlantVillage/Tomato_Leaf_Mold'\n",
        "des = '/content/PlantVillage'\n",
        "shutil.move(src, des)\n",
        "src = '/content/plant-village/PlantVillage/Tomato_Septoria_leaf_spot'\n",
        "des = '/content/PlantVillage'\n",
        "shutil.move(src, des)\n",
        "src = '/content/plant-village/PlantVillage/Tomato_Spider_mites_Two_spotted_spider_mite'\n",
        "des = '/content/PlantVillage'\n",
        "shutil.move(src, des)\n",
        "src = '/content/plant-village/PlantVillage/Tomato__Target_Spot'\n",
        "des = '/content/PlantVillage'\n",
        "shutil.move(src, des)\n",
        "src = '/content/plant-village/PlantVillage/Tomato__Tomato_YellowLeaf__Curl_Virus'\n",
        "des = '/content/PlantVillage'\n",
        "shutil.move(src, des)\n",
        "src = '/content/plant-village/PlantVillage/Tomato__Tomato_mosaic_virus'\n",
        "des = '/content/PlantVillage'\n",
        "shutil.move(src, des)\n",
        "src = '/content/plant-village/PlantVillage/Tomato_healthy'\n",
        "des = '/content/PlantVillage'\n",
        "shutil.move(src, des)"
      ],
      "metadata": {
        "colab": {
          "base_uri": "https://localhost:8080/",
          "height": 35
        },
        "id": "yDqQr_fMf7FW",
        "outputId": "b0c877c1-d87a-4365-9892-a0424c1f73a6"
      },
      "execution_count": 5,
      "outputs": [
        {
          "output_type": "execute_result",
          "data": {
            "text/plain": [
              "'/content/PlantVillage/Tomato_healthy'"
            ],
            "application/vnd.google.colaboratory.intrinsic+json": {
              "type": "string"
            }
          },
          "metadata": {},
          "execution_count": 5
        }
      ]
    },
    {
      "cell_type": "code",
      "source": [
        "!split_folders --output dataset --ratio 0.7 0.1 0.2 -- PlantVillage"
      ],
      "metadata": {
        "colab": {
          "base_uri": "https://localhost:8080/"
        },
        "id": "cIomamwJhLR5",
        "outputId": "baf8da6f-2fd4-4866-bcec-7b3c59cd9d6c"
      },
      "execution_count": 6,
      "outputs": [
        {
          "output_type": "stream",
          "name": "stdout",
          "text": [
            "Copying files: 16012 files [00:02, 6240.75 files/s]\n"
          ]
        }
      ]
    },
    {
      "cell_type": "code",
      "source": [
        "import numpy as np\n",
        "import pandas as pd\n",
        "import matplotlib.pyplot as plt\n",
        "import tensorflow as tf\n",
        "from tensorflow import keras\n",
        "from tensorflow.keras.preprocessing.image import ImageDataGenerator\n",
        "import seaborn as sns"
      ],
      "metadata": {
        "id": "-q6Iko8mhvQ1"
      },
      "execution_count": 21,
      "outputs": []
    },
    {
      "cell_type": "markdown",
      "source": [
        "# Dataset class distribution"
      ],
      "metadata": {
        "id": "C4OOVkmhM12U"
      }
    },
    {
      "cell_type": "code",
      "source": [
        "lbls = os.listdir(\"PlantVillage\")\n",
        "\n",
        "lbl_indexs = []\n",
        "train_counts =[]\n",
        "\n",
        "for label in lbls:\n",
        "\n",
        "    folder = os.path.join('PlantVillage', label)\n",
        "    train_counts.append(len(os.listdir(folder)))\n",
        "\n",
        "train_counts\n",
        "\n",
        "index = 0\n",
        "\n",
        "for clable in lbls:\n",
        "    lbl_indexs.append(index)\n",
        "    print(f'{index} - {clable}')\n",
        "    index = index + 1\n",
        "\n",
        "\n",
        "sns.barplot(x=lbl_indexs, y=train_counts, palette='magma')\n"
      ],
      "metadata": {
        "colab": {
          "base_uri": "https://localhost:8080/",
          "height": 728
        },
        "id": "d7VcYtqkMCcf",
        "outputId": "71198542-d861-4d22-afec-8a2d3d270d19"
      },
      "execution_count": 22,
      "outputs": [
        {
          "output_type": "stream",
          "name": "stdout",
          "text": [
            "0 - Tomato__Target_Spot\n",
            "1 - Tomato_Early_blight\n",
            "2 - Tomato_Leaf_Mold\n",
            "3 - Tomato_Bacterial_spot\n",
            "4 - Tomato_Late_blight\n",
            "5 - Tomato_Septoria_leaf_spot\n",
            "6 - Tomato_healthy\n",
            "7 - Tomato_Spider_mites_Two_spotted_spider_mite\n",
            "8 - Tomato__Tomato_mosaic_virus\n",
            "9 - Tomato__Tomato_YellowLeaf__Curl_Virus\n"
          ]
        },
        {
          "output_type": "stream",
          "name": "stderr",
          "text": [
            "<ipython-input-22-890746463468>:21: FutureWarning: \n",
            "\n",
            "Passing `palette` without assigning `hue` is deprecated and will be removed in v0.14.0. Assign the `x` variable to `hue` and set `legend=False` for the same effect.\n",
            "\n",
            "  sns.barplot(x=lbl_indexs, y=train_counts, palette='magma')\n"
          ]
        },
        {
          "output_type": "execute_result",
          "data": {
            "text/plain": [
              "<Axes: >"
            ]
          },
          "metadata": {},
          "execution_count": 22
        },
        {
          "output_type": "display_data",
          "data": {
            "text/plain": [
              "<Figure size 640x480 with 1 Axes>"
            ],
            "image/png": "[encoded data removed]"
          },
          "metadata": {}
        }
      ]
    },
    {
      "cell_type": "markdown",
      "source": [
        "**train data set**"
      ],
      "metadata": {
        "id": "xBvqw96eKMl4"
      }
    },
    {
      "cell_type": "code",
      "source": [
        "# Data augmentation\n",
        "data_gen = ImageDataGenerator(rescale=1./255,\n",
        "                              shear_range=0.2,\n",
        "                              zoom_range=0.2,\n",
        "                              rotation_range=10,\n",
        "                              horizontal_flip=True\n",
        "                              )"
      ],
      "metadata": {
        "id": "qNb9Kk1CjOEM"
      },
      "execution_count": 8,
      "outputs": []
    },
    {
      "cell_type": "code",
      "source": [
        "train_gen = data_gen.flow_from_directory('/content/dataset/train',\n",
        "                                               target_size=(256, 256),\n",
        "                                               batch_size=32,\n",
        "                                               class_mode='categorical'\n",
        "                                               )"
      ],
      "metadata": {
        "colab": {
          "base_uri": "https://localhost:8080/"
        },
        "id": "CJkNko0PkaYZ",
        "outputId": "ee78cc8b-270f-4f37-d118-dd8499918b9f"
      },
      "execution_count": 9,
      "outputs": [
        {
          "output_type": "stream",
          "name": "stdout",
          "text": [
            "Found 11203 images belonging to 10 classes.\n"
          ]
        }
      ]
    },
    {
      "cell_type": "markdown",
      "source": [
        "**test data set**"
      ],
      "metadata": {
        "id": "k7W1u941KSfD"
      }
    },
    {
      "cell_type": "code",
      "source": [
        "validation_gen = data_gen.flow_from_directory('/content/dataset/val',\n",
        "                                                    target_size=(256, 256),\n",
        "                                                    batch_size=32,\n",
        "                                                    class_mode='categorical'\n",
        "                                                    )"
      ],
      "metadata": {
        "colab": {
          "base_uri": "https://localhost:8080/"
        },
        "id": "aG5RG8p_k4pz",
        "outputId": "7817f901-fc1a-44b6-ccf8-b9738b66a10a"
      },
      "execution_count": 10,
      "outputs": [
        {
          "output_type": "stream",
          "name": "stdout",
          "text": [
            "Found 1597 images belonging to 10 classes.\n"
          ]
        }
      ]
    },
    {
      "cell_type": "code",
      "source": [
        "test_gen = data_gen.flow_from_directory('/content/dataset/test',\n",
        "                                                target_size=(256, 256),\n",
        "                                                batch_size=32,\n",
        "                                                class_mode='categorical'\n",
        "                                                    )\n"
      ],
      "metadata": {
        "colab": {
          "base_uri": "https://localhost:8080/"
        },
        "id": "tm0DeBhBlphh",
        "outputId": "86b33a44-27f2-406f-bde6-c768bae7db43"
      },
      "execution_count": 11,
      "outputs": [
        {
          "output_type": "stream",
          "name": "stdout",
          "text": [
            "Found 3211 images belonging to 10 classes.\n"
          ]
        }
      ]
    },
    {
      "cell_type": "markdown",
      "source": [
        "# Creating the neural network"
      ],
      "metadata": {
        "id": "bPdl2hAumELF"
      }
    },
    {
      "cell_type": "code",
      "source": [
        "model = keras.Sequential([\n",
        "    keras.layers.Conv2D(32, kernel_size=(3, 3), activation='relu', input_shape=(256, 256, 3)),\n",
        "    keras.layers.MaxPooling2D(2, 2),\n",
        "    keras.layers.Conv2D(64, kernel_size=(3, 3), activation='relu'),\n",
        "    keras.layers.MaxPooling2D(2, 2),\n",
        "    keras.layers.Conv2D(64, kernel_size=(3, 3), activation='relu'),\n",
        "    keras.layers.MaxPooling2D(2, 2),\n",
        "    keras.layers.Conv2D(64, kernel_size=(3, 3), activation='relu'),\n",
        "    keras.layers.MaxPooling2D(2, 2),\n",
        "    keras.layers.Conv2D(64, kernel_size=(3, 3), activation='relu'),\n",
        "    keras.layers.MaxPooling2D(2, 2),\n",
        "    keras.layers.Conv2D(64, kernel_size=(3, 3), activation='relu'),\n",
        "    keras.layers.MaxPooling2D(2, 2),\n",
        "    keras.layers.Flatten(),\n",
        "    keras.layers.Dense(64, activation='relu'),\n",
        "    keras.layers.Dense(10, activation='softmax'),\n",
        "])"
      ],
      "metadata": {
        "id": "_70lm2g6lw3s"
      },
      "execution_count": 12,
      "outputs": []
    },
    {
      "cell_type": "code",
      "source": [
        "model.summary()"
      ],
      "metadata": {
        "colab": {
          "base_uri": "https://localhost:8080/"
        },
        "id": "KwGEoE05ngpK",
        "outputId": "c694f762-de58-48b0-868c-3c21b6bc06f8"
      },
      "execution_count": 13,
      "outputs": [
        {
          "output_type": "stream",
          "name": "stdout",
          "text": [
            "Model: \"sequential\"\n",
            "_________________________________________________________________\n",
            " Layer (type)                Output Shape              Param #   \n",
            "=================================================================\n",
            " conv2d (Conv2D)             (None, 254, 254, 32)      896       \n",
            "                                                                 \n",
            " max_pooling2d (MaxPooling2  (None, 127, 127, 32)      0         \n",
            " D)                                                              \n",
            "                                                                 \n",
            " conv2d_1 (Conv2D)           (None, 125, 125, 64)      18496     \n",
            "                                                                 \n",
            " max_pooling2d_1 (MaxPoolin  (None, 62, 62, 64)        0         \n",
            " g2D)                                                            \n",
            "                                                                 \n",
            " conv2d_2 (Conv2D)           (None, 60, 60, 64)        36928     \n",
            "                                                                 \n",
            " max_pooling2d_2 (MaxPoolin  (None, 30, 30, 64)        0         \n",
            " g2D)                                                            \n",
            "                                                                 \n",
            " conv2d_3 (Conv2D)           (None, 28, 28, 64)        36928     \n",
            "                                                                 \n",
            " max_pooling2d_3 (MaxPoolin  (None, 14, 14, 64)        0         \n",
            " g2D)                                                            \n",
            "                                                                 \n",
            " conv2d_4 (Conv2D)           (None, 12, 12, 64)        36928     \n",
            "                                                                 \n",
            " max_pooling2d_4 (MaxPoolin  (None, 6, 6, 64)          0         \n",
            " g2D)                                                            \n",
            "                                                                 \n",
            " conv2d_5 (Conv2D)           (None, 4, 4, 64)          36928     \n",
            "                                                                 \n",
            " max_pooling2d_5 (MaxPoolin  (None, 2, 2, 64)          0         \n",
            " g2D)                                                            \n",
            "                                                                 \n",
            " flatten (Flatten)           (None, 256)               0         \n",
            "                                                                 \n",
            " dense (Dense)               (None, 64)                16448     \n",
            "                                                                 \n",
            " dense_1 (Dense)             (None, 10)                650       \n",
            "                                                                 \n",
            "=================================================================\n",
            "Total params: 184202 (719.54 KB)\n",
            "Trainable params: 184202 (719.54 KB)\n",
            "Non-trainable params: 0 (0.00 Byte)\n",
            "_________________________________________________________________\n"
          ]
        }
      ]
    },
    {
      "cell_type": "code",
      "source": [
        "model.compile(optimizer='adam',\n",
        "              loss='categorical_crossentropy',\n",
        "              metrics=['accuracy'])"
      ],
      "metadata": {
        "id": "2Qt3e5b2nlvM"
      },
      "execution_count": 15,
      "outputs": []
    },
    {
      "cell_type": "markdown",
      "source": [
        "# Training the model"
      ],
      "metadata": {
        "id": "zqr_3t6dKyTT"
      }
    },
    {
      "cell_type": "code",
      "source": [
        "history = model.fit(train_gen,\n",
        "          validation_data=validation_gen,\n",
        "          epochs=10,\n",
        "          steps_per_epoch=len(train_gen),\n",
        "          validation_steps=len(validation_gen),\n",
        "          verbose=1)"
      ],
      "metadata": {
        "id": "zVXoYbbtoFNU",
        "colab": {
          "base_uri": "https://localhost:8080/"
        },
        "outputId": "eaab2a89-e076-46e4-f0d1-7f2681ea1886"
      },
      "execution_count": 16,
      "outputs": [
        {
          "output_type": "stream",
          "name": "stdout",
          "text": [
            "Epoch 1/10\n",
            "351/351 [==============================] - 217s 595ms/step - loss: 1.7350 - accuracy: 0.3861 - val_loss: 1.2853 - val_accuracy: 0.5454\n",
            "Epoch 2/10\n",
            "351/351 [==============================] - 204s 581ms/step - loss: 1.0258 - accuracy: 0.6441 - val_loss: 0.9188 - val_accuracy: 0.6788\n",
            "Epoch 3/10\n",
            "351/351 [==============================] - 204s 582ms/step - loss: 0.7232 - accuracy: 0.7544 - val_loss: 0.6440 - val_accuracy: 0.7583\n",
            "Epoch 4/10\n",
            "351/351 [==============================] - 223s 635ms/step - loss: 0.5642 - accuracy: 0.8034 - val_loss: 0.4914 - val_accuracy: 0.8378\n",
            "Epoch 5/10\n",
            "351/351 [==============================] - 207s 590ms/step - loss: 0.4728 - accuracy: 0.8313 - val_loss: 0.6173 - val_accuracy: 0.7946\n",
            "Epoch 6/10\n",
            "351/351 [==============================] - 222s 634ms/step - loss: 0.3963 - accuracy: 0.8597 - val_loss: 0.3773 - val_accuracy: 0.8622\n",
            "Epoch 7/10\n",
            "351/351 [==============================] - 224s 638ms/step - loss: 0.3649 - accuracy: 0.8712 - val_loss: 0.2888 - val_accuracy: 0.8998\n",
            "Epoch 8/10\n",
            "351/351 [==============================] - 207s 589ms/step - loss: 0.3081 - accuracy: 0.8902 - val_loss: 0.2836 - val_accuracy: 0.9054\n",
            "Epoch 9/10\n",
            "351/351 [==============================] - 209s 595ms/step - loss: 0.2836 - accuracy: 0.8975 - val_loss: 0.2962 - val_accuracy: 0.8961\n",
            "Epoch 10/10\n",
            "351/351 [==============================] - 225s 640ms/step - loss: 0.2677 - accuracy: 0.9063 - val_loss: 0.3422 - val_accuracy: 0.8817\n"
          ]
        }
      ]
    },
    {
      "cell_type": "markdown",
      "source": [
        "# Evaluating Loss and Accuracy"
      ],
      "metadata": {
        "id": "TDR8KLaJK2xK"
      }
    },
    {
      "cell_type": "code",
      "source": [
        "loss, accuracy = model.evaluate(test_generator)"
      ],
      "metadata": {
        "id": "VJJSrlWcpF66",
        "colab": {
          "base_uri": "https://localhost:8080/"
        },
        "outputId": "b335b147-144c-4ead-8848-746ae9c70d14"
      },
      "execution_count": 17,
      "outputs": [
        {
          "output_type": "stream",
          "name": "stdout",
          "text": [
            "101/101 [==============================] - 53s 525ms/step - loss: 0.3429 - accuracy: 0.8922\n"
          ]
        }
      ]
    },
    {
      "cell_type": "code",
      "source": [
        "# Plot the accuracy\n",
        "plt.plot(history.history['accuracy'], label='training accuracy')\n",
        "plt.plot(history.history['val_accuracy'], label='validation accuracy')\n",
        "plt.legend()\n",
        "plt.show()\n",
        "\n",
        "# Plot the loss\n",
        "plt.plot(history.history['loss'], label='training loss')\n",
        "plt.plot(history.history['val_loss'], label='validation loss')\n",
        "plt.legend()\n",
        "plt.show()"
      ],
      "metadata": {
        "id": "I-5CQHd-uNuP",
        "colab": {
          "base_uri": "https://localhost:8080/",
          "height": 846
        },
        "outputId": "5207989a-c355-4f76-f7cf-01fd22e2ae67"
      },
      "execution_count": 18,
      "outputs": [
        {
          "output_type": "display_data",
          "data": {
            "text/plain": [
              "<Figure size 640x480 with 1 Axes>"
            ],
            "image/png": "[encoded data removed]"
          },
          "metadata": {}
        },
        {
          "output_type": "display_data",
          "data": {
            "text/plain": [
              "<Figure size 640x480 with 1 Axes>"
            ],
            "image/png": "[encoded data removed]"
          },
          "metadata": {}
        }
      ]
    },
    {
      "cell_type": "code",
      "source": [
        "model.save('tomato_disease.h5')"
      ],
      "metadata": {
        "id": "bOKHKLdbfKvv",
        "colab": {
          "base_uri": "https://localhost:8080/"
        },
        "outputId": "a4f5a104-685a-43d8-d9a9-b56919c32ca6"
      },
      "execution_count": 19,
      "outputs": [
        {
          "output_type": "stream",
          "name": "stderr",
          "text": [
            "/usr/local/lib/python3.10/dist-packages/keras/src/engine/training.py:3103: UserWarning: You are saving your model as an HDF5 file via `model.save()`. This file format is considered legacy. We recommend using instead the native Keras format, e.g. `model.save('my_model.keras')`.\n",
            "  saving_api.save_model(\n"
          ]
        }
      ]
    },
    {
      "cell_type": "markdown",
      "source": [
        "# Testing a prediction"
      ],
      "metadata": {
        "id": "McTO3dk7fQzC"
      }
    },
    {
      "cell_type": "code",
      "source": [
        "from keras.utils import load_img, img_to_array\n",
        "\n",
        "#Image paht\n",
        "img_path = '/content/PlantVillage/Tomato_Early_blight/0114f7b3-7f56-4bef-aa47-7a82da142d4b___RS_Erly.B 7437.JPG'\n",
        "\n",
        "# load image\n",
        "img = load_img(img_path, target_size=(256, 256))\n",
        "\n",
        "# convert image into areay\n",
        "img_arr = img_to_array(img)\n",
        "\n",
        "# Normalize pixel values to [0, 1]\n",
        "img = img_arr/255\n",
        "\n",
        "# Add batch dimension\n",
        "img = np.expand_dims(img, axis=0)\n",
        "\n",
        "prediction  = model.predict(img)\n",
        "\n",
        "class_labels = ['Tomato_Bacterial_spot', 'Tomato_Early_blight', 'Tomato_Late_blight', 'Tomato_Leaf_Mold',\n",
        "                'Tomato_Septoria_leaf_spot', 'Tomato_Spider_mites_Two_spotted_spider_mite',\n",
        "                'Tomato__Target_Spot', 'Tomato__Tomato_YellowLeaf__Curl_Virus', 'Tomato__Tomato_mosaic_virus',\n",
        "                'Tomato_healthy']\n",
        "\n",
        "pred_index = np.argmax(prediction)\n",
        "confidence = prediction[0][pred_index]\n",
        "\n",
        "predicted_class = class_labels[pred_index]\n",
        "\n",
        "print(f\"Predicted class: {predicted_class}\")\n",
        "print(f\"Confidence: {confidence:.2%}\")"
      ],
      "metadata": {
        "colab": {
          "base_uri": "https://localhost:8080/"
        },
        "id": "dIyC2cR4fP3c",
        "outputId": "a4b6b814-3a3f-4755-9a46-65d7e339403d"
      },
      "execution_count": 20,
      "outputs": [
        {
          "output_type": "stream",
          "name": "stdout",
          "text": [
            "1/1 [==============================] - 1s 500ms/step\n",
            "Predicted class: Tomato_Early_blight\n",
            "Confidence: 90.71%\n"
          ]
        }
      ]
    },
    {
      "cell_type": "code",
      "source": [],
      "metadata": {
        "id": "mVi4h0Spl_0J"
      },
      "execution_count": null,
      "outputs": []
    }
  ]
}